{
 "cells": [
  {
   "cell_type": "code",
   "execution_count": null,
   "metadata": {},
   "outputs": [],
   "source": [
    "%matplotlib notebook\n",
    "import numpy as np\n",
    "import matplotlib.pyplot as plt\n",
    "import matplotlib.animation as animation\n",
    "from IPython.display import HTML\n",
    "from tqdm import tqdm\n",
    "\n",
    "from spatgame import evolve, make_rgb\n",
    "from meangame import MeanGamePy as MeanGame"
   ]
  },
  {
   "cell_type": "code",
   "execution_count": null,
   "metadata": {},
   "outputs": [],
   "source": [
    "plt.style.use(\"seaborn-whitegrid\")\n",
    "plt.rcParams[\"axes.grid\"] = False"
   ]
  },
  {
   "cell_type": "markdown",
   "metadata": {},
   "source": [
    "## One defector"
   ]
  },
  {
   "cell_type": "code",
   "execution_count": null,
   "metadata": {},
   "outputs": [],
   "source": [
    "L = 200\n",
    "p_c_ = .5\n",
    "b = 1.59\n",
    "# np.random.seed(45)\n",
    "# field = np.random.choice((0, 1), (L, L), p=(1-p_c_, p_c_))\n",
    "field = np.ones((L, L), dtype=int)\n",
    "# field[30:32, 30:32] = np.zeros((2, 2), dtype=int)\n",
    "field[L//2, L//2] = 0\n",
    "\n",
    "# time_text = plt.text(2, 6, \"0\")\n",
    "# draw the initial field\n",
    "fig = plt.figure()\n",
    "im = plt.imshow(make_rgb(field), animated=True, cmap=plt.get_cmap('Paired'))\n",
    "# ax.grid(False)\n",
    "\n",
    "# updater function\n",
    "def updatefig(frame):\n",
    "    if frame < 3:\n",
    "        return im,\n",
    "    global field\n",
    "    field_ = evolve(field, b, 1)\n",
    "    coll = make_rgb(field_ + 2*(field_-field))\n",
    "    field = field_.copy()\n",
    "    im.set_array(coll)\n",
    "    return im,\n",
    "\n",
    "# animate!\n",
    "anim = animation.FuncAnimation(fig, updatefig, frames=200, interval=150, blit=True)\n",
    "\n",
    "plt.show()"
   ]
  },
  {
   "cell_type": "markdown",
   "metadata": {},
   "source": [
    "## Evolution in the top sector of the game with one defector"
   ]
  },
  {
   "cell_type": "code",
   "execution_count": null,
   "metadata": {},
   "outputs": [],
   "source": [
    "L = 200\n",
    "p_c_ = .5\n",
    "b = 1.59\n",
    "# np.random.seed(45)\n",
    "# field = np.random.choice((0, 1), (L, L), p=(1-p_c_, p_c_))\n",
    "field = np.ones((L, L), dtype=int)\n",
    "# field[30:32, 30:32] = np.zeros((2, 2), dtype=int)\n",
    "field[L//2, L//2] = 0\n",
    "\n",
    "# time_text = plt.text(2, 6, \"0\")\n",
    "# draw the initial field\n",
    "fig = plt.figure()\n",
    "im = plt.imshow(make_rgb(field)[:L//2, L//4:3*L//4], animated=True, cmap=plt.get_cmap('Paired'))\n",
    "# ax.grid(False)\n",
    "\n",
    "# updater function\n",
    "def updatefig(frame):\n",
    "    if frame < 3:\n",
    "        return im,\n",
    "    global field\n",
    "    field_ = evolve(field, b, 1)\n",
    "    coll = make_rgb(field_ + 2*(field_-field))\n",
    "    field = field_.copy()\n",
    "    im.set_array(coll[:L//2, L//4:3*L//4])\n",
    "    return im,\n",
    "\n",
    "# animate!\n",
    "anim = animation.FuncAnimation(fig, updatefig, frames=200, interval=150, blit=True)\n",
    "\n",
    "plt.show()"
   ]
  },
  {
   "cell_type": "markdown",
   "metadata": {},
   "source": [
    "## Random field"
   ]
  },
  {
   "cell_type": "code",
   "execution_count": null,
   "metadata": {},
   "outputs": [],
   "source": [
    "L = 200\n",
    "p_c_ = .5\n",
    "b = 1.59\n",
    "np.random.seed(45)\n",
    "field = np.random.choice((0, 1), (L, L), p=(1-p_c_, p_c_))\n",
    "\n",
    "# draw the initial field\n",
    "fig = plt.figure()\n",
    "im = plt.imshow(make_rgb(field), animated=True, cmap=plt.get_cmap('Paired'))\n",
    "# ax.grid(False)\n",
    "\n",
    "# updater function\n",
    "def updatefig(frame):\n",
    "    if frame < 3:\n",
    "        return im,\n",
    "    global field\n",
    "    field_ = evolve(field, b, 1)\n",
    "    coll = make_rgb(field_ + 2*(field_-field))\n",
    "    field = field_.copy()\n",
    "    im.set_array(coll)\n",
    "    return im,\n",
    "\n",
    "# animate!\n",
    "anim = animation.FuncAnimation(fig, updatefig, frames=200, interval=150, blit=True)\n",
    "\n",
    "plt.show()"
   ]
  }
 ],
 "metadata": {
  "kernelspec": {
   "display_name": "Python 3",
   "language": "python",
   "name": "python3"
  },
  "language_info": {
   "codemirror_mode": {
    "name": "ipython",
    "version": 3
   },
   "file_extension": ".py",
   "mimetype": "text/x-python",
   "name": "python",
   "nbconvert_exporter": "python",
   "pygments_lexer": "ipython3",
   "version": "3.6.8"
  }
 },
 "nbformat": 4,
 "nbformat_minor": 2
}
